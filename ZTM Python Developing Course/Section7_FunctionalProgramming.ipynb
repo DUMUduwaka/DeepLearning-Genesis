{
 "cells": [
  {
   "cell_type": "markdown",
   "metadata": {},
   "source": [
    "## map, filter, zip, and reduce"
   ]
  },
  {
   "cell_type": "code",
   "execution_count": 2,
   "metadata": {},
   "outputs": [
    {
     "data": {
      "text/plain": [
       "[2, 4, 6, 8, 10, 12]"
      ]
     },
     "execution_count": 2,
     "metadata": {},
     "output_type": "execute_result"
    }
   ],
   "source": [
    "def multiply_by2(li):\n",
    "    new_list = []\n",
    "    for item in li:\n",
    "        new_list.append(item*2)\n",
    "    return new_list\n",
    "\n",
    "\n",
    "multiply_by2([1, 2, 3, 4, 5, 6])\n",
    "\n",
    "# with map function this lengthy code can be reduced as follows,\n"
   ]
  },
  {
   "cell_type": "markdown",
   "metadata": {},
   "source": [
    "### map"
   ]
  },
  {
   "cell_type": "code",
   "execution_count": 3,
   "metadata": {},
   "outputs": [
    {
     "name": "stdout",
     "output_type": "stream",
     "text": [
      "[3, 6, 9, 12, 15, 18]\n",
      "[1, 2, 3, 4, 5, 6]\n"
     ]
    }
   ],
   "source": [
    "my_list = [1, 2, 3, 4, 5, 6]\n",
    "\n",
    "\n",
    "def multiply_by3(item):\n",
    "    return item*3\n",
    "\n",
    "\n",
    "print(list(map(multiply_by3, my_list)))\n",
    "# this will not overwrite the list we have. So this is a kind of a pure function\n",
    "print(my_list)\n"
   ]
  },
  {
   "cell_type": "markdown",
   "metadata": {},
   "source": [
    "### filter"
   ]
  },
  {
   "cell_type": "code",
   "execution_count": 4,
   "metadata": {},
   "outputs": [
    {
     "data": {
      "text/plain": [
       "[1, 3, 5, 7, 9]"
      ]
     },
     "execution_count": 4,
     "metadata": {},
     "output_type": "execute_result"
    }
   ],
   "source": [
    "my_list = [1, 2, 3, 4, 5, 6, 7, 8, 9]\n",
    "\n",
    "\n",
    "def only_odd(item):\n",
    "    return item % 2 != 0\n",
    "\n",
    "\n",
    "# this keeps items what the function give as TRUE\n",
    "list(filter(only_odd, my_list))\n"
   ]
  },
  {
   "cell_type": "markdown",
   "metadata": {},
   "source": [
    "### zip"
   ]
  },
  {
   "cell_type": "code",
   "execution_count": 5,
   "metadata": {},
   "outputs": [
    {
     "name": "stdout",
     "output_type": "stream",
     "text": [
      "[(1, 4), (2, 5), (3, 6)]\n",
      "[(1, 4, 7), (2, 5, 8), (3, 6, 9)]\n"
     ]
    }
   ],
   "source": [
    "my_list = [1, 2, 3]\n",
    "your_list = [4, 5, 6]\n",
    "their_list = [7, 8, 9]\n",
    "\n",
    "print(list(zip(my_list, your_list)))\n",
    "print(list(zip(my_list, your_list, their_list)))\n"
   ]
  },
  {
   "cell_type": "markdown",
   "metadata": {},
   "source": [
    "### reduce"
   ]
  },
  {
   "cell_type": "code",
   "execution_count": 6,
   "metadata": {},
   "outputs": [
    {
     "name": "stdout",
     "output_type": "stream",
     "text": [
      "0 1\n",
      "1 2\n",
      "3 3\n",
      "6 4\n",
      "10 5\n",
      "15 6\n",
      "21 7\n",
      "28 8\n",
      "36 9\n"
     ]
    },
    {
     "data": {
      "text/plain": [
       "45"
      ]
     },
     "execution_count": 6,
     "metadata": {},
     "output_type": "execute_result"
    }
   ],
   "source": [
    "from functools import reduce\n",
    "my_list = [1, 2, 3, 4, 5, 6, 7, 8, 9]\n",
    "\n",
    "\n",
    "def accumulator(acc, item):\n",
    "    print(acc, item)\n",
    "    return acc+item\n",
    "\n",
    "\n",
    "reduce(accumulator, my_list, 0)\n"
   ]
  },
  {
   "cell_type": "markdown",
   "metadata": {},
   "source": [
    "### Exercise"
   ]
  },
  {
   "cell_type": "code",
   "execution_count": 7,
   "metadata": {},
   "outputs": [
    {
     "name": "stdout",
     "output_type": "stream",
     "text": [
      "['SISI', 'BIBI', 'TITI', 'CARLA']\n",
      "[('a', 1), ('b', 2), ('c', 3), ('d', 4), ('e', 5)]\n",
      "[73, 65, 76, 100, 88]\n"
     ]
    },
    {
     "data": {
      "text/plain": [
       "456"
      ]
     },
     "execution_count": 7,
     "metadata": {},
     "output_type": "execute_result"
    }
   ],
   "source": [
    "from functools import reduce\n",
    "\n",
    "# 1 Capitalize all of the pet names and print the list\n",
    "my_pets = ['sisi', 'bibi', 'titi', 'carla']\n",
    "\n",
    "\n",
    "def capital(item):\n",
    "    return item.upper()\n",
    "\n",
    "\n",
    "print(list(map(capital, my_pets)))\n",
    "\n",
    "# 2 Zip the 2 lists into a list of tuples, but sort the numbers from lowest to highest.\n",
    "my_strings = ['a', 'b', 'c', 'd', 'e']\n",
    "my_numbers = [5, 4, 3, 2, 1]\n",
    "\n",
    "print(list(zip(my_strings, sorted(my_numbers))))\n",
    "\n",
    "# 3 Filter the scores that pass over 50%\n",
    "scores = [73, 20, 65, 19, 76, 100, 88]\n",
    "\n",
    "\n",
    "def is_greater_fifty(item):\n",
    "    return item > 50\n",
    "\n",
    "\n",
    "new_scores = list(filter(is_greater_fifty, scores))\n",
    "print(new_scores)\n",
    "\n",
    "# 4 Combine all of the numbers that are in a list on this file using reduce (my_numbers and scores). What is the total?\n",
    "\n",
    "\n",
    "def accumulator(acc, item):\n",
    "    return acc + item\n",
    "\n",
    "\n",
    "reduce(accumulator, (my_numbers + scores), 0)\n"
   ]
  },
  {
   "cell_type": "markdown",
   "metadata": {},
   "source": [
    "### Lambda Expression "
   ]
  },
  {
   "cell_type": "markdown",
   "metadata": {},
   "source": [
    "lambda expressions in Python are one time anonymous functions that we don't need more than once."
   ]
  },
  {
   "cell_type": "code",
   "execution_count": 9,
   "metadata": {},
   "outputs": [
    {
     "name": "stdout",
     "output_type": "stream",
     "text": [
      "[3, 6, 9, 12, 15, 18]\n",
      "[3, 6, 9, 12, 15, 18]\n",
      "[1, 2, 3, 4, 5, 6]\n"
     ]
    }
   ],
   "source": [
    "# lambda param: action(param)\n",
    "\n",
    "my_list = [1, 2, 3, 4, 5, 6]\n",
    "\n",
    "\n",
    "def multiply_by3(item):\n",
    "    return item*3\n",
    "\n",
    "\n",
    "print(list(map(multiply_by3, my_list)))\n",
    "# In this case one time function, Lambda has been used to multiply.\n",
    "print(list(map(lambda item: item*3, my_list)))\n",
    "print(my_list)\n"
   ]
  },
  {
   "cell_type": "code",
   "execution_count": 10,
   "metadata": {},
   "outputs": [
    {
     "name": "stdout",
     "output_type": "stream",
     "text": [
      "[1, 3, 5, 7, 9]\n",
      "[1, 3, 5, 7, 9]\n"
     ]
    }
   ],
   "source": [
    "my_list = [1, 2, 3, 4, 5, 6, 7, 8, 9]\n",
    "\n",
    "\n",
    "def only_odd(item):\n",
    "    return item % 2 != 0\n",
    "\n",
    "\n",
    "print(list(filter(only_odd, my_list)))\n",
    "print(list(filter(lambda item: item % 2 != 0, my_list)))\n"
   ]
  },
  {
   "cell_type": "code",
   "execution_count": 11,
   "metadata": {},
   "outputs": [
    {
     "name": "stdout",
     "output_type": "stream",
     "text": [
      "45\n",
      "45\n"
     ]
    }
   ],
   "source": [
    "from functools import reduce\n",
    "my_list = [1, 2, 3, 4, 5, 6, 7, 8, 9]\n",
    "\n",
    "\n",
    "def accumulator(acc, item):\n",
    "    return acc+item\n",
    "\n",
    "\n",
    "print(reduce(accumulator, my_list, 0))\n",
    "print(reduce(lambda acc, item: acc + item, my_list))\n"
   ]
  },
  {
   "cell_type": "markdown",
   "metadata": {},
   "source": [
    "### Exercise: Lambda Expressions"
   ]
  },
  {
   "cell_type": "code",
   "execution_count": 12,
   "metadata": {},
   "outputs": [
    {
     "name": "stdout",
     "output_type": "stream",
     "text": [
      "[25, 16, 9]\n",
      "[(0, 2), (4, 3), (9, 9), (10, -1)]\n",
      "[(10, -1), (0, 2), (4, 3), (9, 9)]\n"
     ]
    }
   ],
   "source": [
    "# Square\n",
    "my_list = [5, 4, 3]\n",
    "print(list(map(lambda item: item**2, my_list)))\n",
    "\n",
    "# List sorting\n",
    "a =[(0,2),(4,3),(10,-1),(9,9)]\n",
    "a.sort()\n",
    "print(a)\n",
    "\n",
    "a.sort(key=lambda x: x[1])\n",
    "print(a)\n",
    "\n"
   ]
  },
  {
   "cell_type": "markdown",
   "metadata": {},
   "source": [
    "### List Comprehensions"
   ]
  },
  {
   "cell_type": "code",
   "execution_count": 17,
   "metadata": {},
   "outputs": [
    {
     "name": "stdout",
     "output_type": "stream",
     "text": [
      "['h', 'e', 'l', 'l', 'o']\n",
      "['h', 'e', 'l', 'l', 'o']\n",
      "[0, 1, 4, 9, 16, 25, 36, 49, 64, 81, 100]\n",
      "[0, 4, 16, 36, 64, 100]\n"
     ]
    }
   ],
   "source": [
    "my_list = []\n",
    "\n",
    "for char in 'hello':\n",
    "    my_list.append(char)\n",
    "\n",
    "print(my_list)\n",
    "\n",
    "# We can use list comprehension to create a quick list\n",
    "my_list2 = [char for char in 'hello']\n",
    "print(my_list2)\n",
    "\n",
    "my_list3 = [i**2 for i in range(11)]\n",
    "print(my_list3)\n",
    "\n",
    "my_list4 = [num**2 for num in range(11) if num % 2 == 0]\n",
    "print(my_list4)\n"
   ]
  },
  {
   "cell_type": "markdown",
   "metadata": {},
   "source": [
    "### Set and Dictionary Comprehension"
   ]
  },
  {
   "cell_type": "markdown",
   "metadata": {},
   "source": [
    "set"
   ]
  },
  {
   "cell_type": "code",
   "execution_count": 18,
   "metadata": {},
   "outputs": [
    {
     "name": "stdout",
     "output_type": "stream",
     "text": [
      "{'h', 'o', 'e', 'l'}\n",
      "{0, 1, 64, 4, 36, 100, 9, 16, 49, 81, 25}\n",
      "{0, 64, 4, 36, 100, 16}\n"
     ]
    }
   ],
   "source": [
    "my_set2 = {char for char in 'hello'}\n",
    "print(my_set2)\n",
    "\n",
    "my_set3 = {i**2 for i in range(11)}\n",
    "print(my_set3)\n",
    "\n",
    "my_set4 = {num**2 for num in range(11) if num % 2 == 0}\n",
    "print(my_set4)\n"
   ]
  },
  {
   "cell_type": "markdown",
   "metadata": {},
   "source": [
    "Dictionary"
   ]
  },
  {
   "cell_type": "code",
   "execution_count": 19,
   "metadata": {},
   "outputs": [
    {
     "name": "stdout",
     "output_type": "stream",
     "text": [
      "{'a': 1, 'b': 4, 'c': 9, 'd': 16}\n",
      "{'b': 4, 'd': 16}\n"
     ]
    }
   ],
   "source": [
    "simple_dict = {\n",
    "    'a': 1,\n",
    "    'b': 2,\n",
    "    'c': 3,\n",
    "    'd': 4,\n",
    "}\n",
    "\n",
    "new_dict = {k: v**2 for k, v in simple_dict.items()}\n",
    "print(new_dict)\n",
    "\n",
    "new_dict1 = {k: v**2 for k, v in simple_dict.items() if v % 2 == 0}\n",
    "print(new_dict1)\n"
   ]
  },
  {
   "cell_type": "code",
   "execution_count": 20,
   "metadata": {},
   "outputs": [
    {
     "name": "stdout",
     "output_type": "stream",
     "text": [
      "{1: 1, 2: 4, 3: 9, 4: 16, 5: 25, 6: 36}\n"
     ]
    },
    {
     "data": {
      "text/plain": [
       "dict_values([1, 4, 9, 16, 25, 36])"
      ]
     },
     "execution_count": 20,
     "metadata": {},
     "output_type": "execute_result"
    }
   ],
   "source": [
    "my_dict = {num: num**2 for num in [1,2,3,4,5,6]}\n",
    "print(my_dict)\n",
    "\n",
    "my_dict.keys()\n",
    "my_dict.values()\n"
   ]
  },
  {
   "cell_type": "markdown",
   "metadata": {},
   "source": [
    "### Exercise: Comprehensions"
   ]
  },
  {
   "cell_type": "code",
   "execution_count": 24,
   "metadata": {},
   "outputs": [
    {
     "name": "stdout",
     "output_type": "stream",
     "text": [
      "['b', 'n']\n",
      "['n', 'b']\n"
     ]
    }
   ],
   "source": [
    "some_list = ['a', 'b', 'c', 'b', 'd', 'm', 'n', 'n']\n",
    "\n",
    "duplicates = []\n",
    "for value in some_list:\n",
    "    if some_list.count(value) > 1:\n",
    "        if value not in duplicates:\n",
    "            duplicates.append(value)\n",
    "\n",
    "print(duplicates)\n",
    "\n",
    "duplicates1 = list(set([item for item in some_list if some_list.count(item) > 1 ]))\n",
    "print(duplicates1)"
   ]
  }
 ],
 "metadata": {
  "kernelspec": {
   "display_name": "Python 3.10.4 64-bit",
   "language": "python",
   "name": "python3"
  },
  "language_info": {
   "codemirror_mode": {
    "name": "ipython",
    "version": 3
   },
   "file_extension": ".py",
   "mimetype": "text/x-python",
   "name": "python",
   "nbconvert_exporter": "python",
   "pygments_lexer": "ipython3",
   "version": "3.12.2"
  },
  "orig_nbformat": 4,
  "vscode": {
   "interpreter": {
    "hash": "5e533b1966831f5b052ea6b06787e4c23c81ebc41263419272bd1c523722d838"
   }
  }
 },
 "nbformat": 4,
 "nbformat_minor": 2
}
