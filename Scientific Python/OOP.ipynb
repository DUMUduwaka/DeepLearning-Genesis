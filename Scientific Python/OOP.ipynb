{
 "cells": [
  {
   "cell_type": "markdown",
   "id": "8ccc9156",
   "metadata": {},
   "source": [
    "## Python Object Oriented Programming ##\n",
    "\n",
    "### Content ###\n",
    "1. Creating Classes and objects\n",
    "2. Attributes and methods\n",
    "3. Getter anad Setter methods\n",
    "4. Properties\n",
    "5. Static attributes and methods\n",
    "6. Public, protected and private access modifiers\n",
    "7. Abstract Classes"
   ]
  },
  {
   "cell_type": "code",
   "execution_count": 2,
   "id": "9713ae5b-e77c-4220-8967-e81262e2b282",
   "metadata": {},
   "outputs": [
    {
     "name": "stdout",
     "output_type": "stream",
     "text": [
      "<class 'str'>\n",
      "<class 'int'>\n",
      "USITHA\n"
     ]
    }
   ],
   "source": [
    "name = 'Usitha'\n",
    "age = 29\n",
    "\n",
    "print(type(name))\n",
    "print(type(age))\n",
    "print(name.upper())"
   ]
  },
  {
   "cell_type": "markdown",
   "id": "86f6727f",
   "metadata": {},
   "source": [
    "### Creating a class"
   ]
  },
  {
   "cell_type": "code",
   "execution_count": 3,
   "id": "1ffab28c-73d9-411a-b563-e35f5b5f50a4",
   "metadata": {},
   "outputs": [
    {
     "name": "stdout",
     "output_type": "stream",
     "text": [
      "Whoof whoof\n"
     ]
    }
   ],
   "source": [
    "class Dog:\n",
    "    def bark(self):\n",
    "        print(\"Whoof whoof\")\n",
    "\n",
    "dog1 = Dog() # creating a Dog class and assigning to dog1 \n",
    "dog1.bark()\n"
   ]
  },
  {
   "cell_type": "markdown",
   "id": "5a581590",
   "metadata": {},
   "source": [
    "Modifying the class"
   ]
  },
  {
   "cell_type": "code",
   "execution_count": 4,
   "id": "89ca800b",
   "metadata": {},
   "outputs": [
    {
     "name": "stdout",
     "output_type": "stream",
     "text": [
      "Rocky\n",
      "German Shepard\n",
      "Whoof whoof\n"
     ]
    }
   ],
   "source": [
    "class Dog:\n",
    "    def __init__(self,name,breed):\n",
    "        self.name = name \n",
    "        self.breed = breed\n",
    "    \n",
    "    def bark(self):\n",
    "        print(\"Whoof whoof\")\n",
    "\n",
    "dog2 = Dog(\"Rocky\",\"German Shepard\")\n",
    "print(dog2.name)\n",
    "print(dog2.breed)\n",
    "dog2.bark()\n"
   ]
  },
  {
   "cell_type": "code",
   "execution_count": 7,
   "id": "ce448580",
   "metadata": {},
   "outputs": [
    {
     "name": "stdout",
     "output_type": "stream",
     "text": [
      "Usitha\n",
      "334-4567\n",
      "Ishani\n",
      "456-7869\n"
     ]
    }
   ],
   "source": [
    "class Dog:\n",
    "    def __init__(self,name,breed,owner):\n",
    "        self.name = name \n",
    "        self.breed = breed\n",
    "        self.owner = owner\n",
    "    \n",
    "    def bark(self):\n",
    "        print(\"Whoof whoof\")\n",
    "\n",
    "class Owner:\n",
    "    def __init__(self,name,address, contact_number):\n",
    "        self.name = name\n",
    "        self.address = address\n",
    "        self.phone_number = contact_number\n",
    "\n",
    "owner1 = Owner(\"Usitha\", \"186 Niripola Hanwella\",\"334-4567\")\n",
    "dog1 = Dog(\"Rocky\",\"Gerham Shepard\", owner1)\n",
    "\n",
    "owner2 = Owner(\"Ishani\",\"186 Niripola Hanwella\",\"456-7869\")\n",
    "dog2 = Dog(\"Tiny\",\"Gerham Shepard\", owner2)\n",
    "\n",
    "print(dog1.owner.name)\n",
    "print(dog1.owner.phone_number)\n",
    "print(dog2.owner.name)\n",
    "print(dog2.owner.phone_number)"
   ]
  },
  {
   "cell_type": "markdown",
   "metadata": {},
   "source": [
    "Another class"
   ]
  },
  {
   "cell_type": "code",
   "execution_count": 15,
   "id": "411e7f92",
   "metadata": {},
   "outputs": [
    {
     "name": "stdout",
     "output_type": "stream",
     "text": [
      "Hello my name is Usitha and I am 29 years old.\n",
      "Hello my name is Ishani and I am 25 years old.\n"
     ]
    }
   ],
   "source": [
    "class Person:\n",
    "    def __init__(self, name, age):\n",
    "        self.name = name\n",
    "        self.age = age\n",
    "    \n",
    "    def greet(self):\n",
    "        print(f\"Hello my name is {self.name} and I am {self.age} years old.\")\n",
    "\n",
    "person1 = Person(\"Usitha\", 29)\n",
    "person1.greet()\n",
    "\n",
    "person2 = Person(\"Ishani\", 25)\n",
    "person2.greet()"
   ]
  },
  {
   "cell_type": "code",
   "execution_count": 21,
   "metadata": {},
   "outputs": [
    {
     "name": "stdout",
     "output_type": "stream",
     "text": [
      "Sending message to Isha: Hi Isha, it's Don\n",
      "Sending message to Don: Hi Don, it's Isha\n",
      "don@gmail.com\n",
      "don@yahoo.com\n"
     ]
    }
   ],
   "source": [
    "class User:\n",
    "    def __init__(self, username, email, password):\n",
    "        self.username =  username\n",
    "        self.email = email\n",
    "        self.password = password\n",
    "    \n",
    "    def say_hi_to_user(self,user):\n",
    "        print(f\"Sending message to {user.username}: Hi {user.username}, it's {self.username}\")\n",
    "\n",
    "user1 = User(\"Don\",\"don@gmail.com\", '123')\n",
    "user2 = User(\"Isha\",\"isha@gmail.com\", \"456\")\n",
    "\n",
    "user1.say_hi_to_user(user2)\n",
    "user2.say_hi_to_user(user1)\n",
    "\n",
    "print(user1.email)\n",
    "user1.email = \"don@yahoo.com\"\n",
    "\n",
    "print(user1.email)\n"
   ]
  },
  {
   "cell_type": "code",
   "execution_count": null,
   "metadata": {},
   "outputs": [],
   "source": []
  }
 ],
 "metadata": {
  "kernelspec": {
   "display_name": "Python 3 (ipykernel)",
   "language": "python",
   "name": "python3"
  },
  "language_info": {
   "codemirror_mode": {
    "name": "ipython",
    "version": 3
   },
   "file_extension": ".py",
   "mimetype": "text/x-python",
   "name": "python",
   "nbconvert_exporter": "python",
   "pygments_lexer": "ipython3",
   "version": "3.12.9"
  }
 },
 "nbformat": 4,
 "nbformat_minor": 5
}
