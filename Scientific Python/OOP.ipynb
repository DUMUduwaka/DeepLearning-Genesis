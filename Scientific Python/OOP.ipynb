{
 "cells": [
  {
   "cell_type": "markdown",
   "id": "8ccc9156",
   "metadata": {},
   "source": [
    "# Python Object Oriented Programming ##\n",
    "\n",
    "## Content \n",
    "1. Creating Classes and objects\n",
    "2. Attributes and methods\n",
    "3. Getter anad Setter methods\n",
    "4. Properties\n",
    "5. Static attributes and methods\n",
    "6. Public, protected and private access modifiers\n",
    "7. Abstract Classes"
   ]
  },
  {
   "cell_type": "code",
   "execution_count": 2,
   "id": "9713ae5b-e77c-4220-8967-e81262e2b282",
   "metadata": {},
   "outputs": [
    {
     "name": "stdout",
     "output_type": "stream",
     "text": [
      "<class 'str'>\n",
      "<class 'int'>\n",
      "USITHA\n"
     ]
    }
   ],
   "source": [
    "name = 'Usitha'\n",
    "age = 29\n",
    "\n",
    "print(type(name))\n",
    "print(type(age))\n",
    "print(name.upper())"
   ]
  },
  {
   "cell_type": "markdown",
   "id": "86f6727f",
   "metadata": {},
   "source": [
    "### Creating a class"
   ]
  },
  {
   "cell_type": "code",
   "execution_count": 3,
   "id": "1ffab28c-73d9-411a-b563-e35f5b5f50a4",
   "metadata": {},
   "outputs": [
    {
     "name": "stdout",
     "output_type": "stream",
     "text": [
      "Whoof whoof\n"
     ]
    }
   ],
   "source": [
    "class Dog:\n",
    "    def bark(self):\n",
    "        print(\"Whoof whoof\")\n",
    "\n",
    "dog1 = Dog() # creating a Dog class and assigning to dog1 \n",
    "dog1.bark()\n"
   ]
  },
  {
   "cell_type": "markdown",
   "id": "5a581590",
   "metadata": {},
   "source": [
    "Modifying the class"
   ]
  },
  {
   "cell_type": "code",
   "execution_count": 4,
   "id": "89ca800b",
   "metadata": {},
   "outputs": [
    {
     "name": "stdout",
     "output_type": "stream",
     "text": [
      "Rocky\n",
      "German Shepard\n",
      "Whoof whoof\n"
     ]
    }
   ],
   "source": [
    "class Dog:\n",
    "    def __init__(self,name,breed):\n",
    "        self.name = name \n",
    "        self.breed = breed\n",
    "    \n",
    "    def bark(self):\n",
    "        print(\"Whoof whoof\")\n",
    "\n",
    "dog2 = Dog(\"Rocky\",\"German Shepard\")\n",
    "print(dog2.name)\n",
    "print(dog2.breed)\n",
    "dog2.bark()\n"
   ]
  },
  {
   "cell_type": "code",
   "execution_count": 7,
   "id": "ce448580",
   "metadata": {},
   "outputs": [
    {
     "name": "stdout",
     "output_type": "stream",
     "text": [
      "Usitha\n",
      "334-4567\n",
      "Ishani\n",
      "456-7869\n"
     ]
    }
   ],
   "source": [
    "class Dog:\n",
    "    def __init__(self,name,breed,owner):\n",
    "        self.name = name \n",
    "        self.breed = breed\n",
    "        self.owner = owner\n",
    "    \n",
    "    def bark(self):\n",
    "        print(\"Whoof whoof\")\n",
    "\n",
    "class Owner:\n",
    "    def __init__(self,name,address, contact_number):\n",
    "        self.name = name\n",
    "        self.address = address\n",
    "        self.phone_number = contact_number\n",
    "\n",
    "owner1 = Owner(\"Usitha\", \"186 Niripola Hanwella\",\"334-4567\")\n",
    "dog1 = Dog(\"Rocky\",\"Gerham Shepard\", owner1)\n",
    "\n",
    "owner2 = Owner(\"Ishani\",\"186 Niripola Hanwella\",\"456-7869\")\n",
    "dog2 = Dog(\"Tiny\",\"Gerham Shepard\", owner2)\n",
    "\n",
    "print(dog1.owner.name)\n",
    "print(dog1.owner.phone_number)\n",
    "print(dog2.owner.name)\n",
    "print(dog2.owner.phone_number)"
   ]
  },
  {
   "cell_type": "markdown",
   "metadata": {},
   "source": [
    "Another class"
   ]
  },
  {
   "cell_type": "code",
   "execution_count": 15,
   "id": "411e7f92",
   "metadata": {},
   "outputs": [
    {
     "name": "stdout",
     "output_type": "stream",
     "text": [
      "Hello my name is Usitha and I am 29 years old.\n",
      "Hello my name is Ishani and I am 25 years old.\n"
     ]
    }
   ],
   "source": [
    "class Person:\n",
    "    def __init__(self, name, age):\n",
    "        self.name = name\n",
    "        self.age = age\n",
    "    \n",
    "    def greet(self):\n",
    "        print(f\"Hello my name is {self.name} and I am {self.age} years old.\")\n",
    "\n",
    "person1 = Person(\"Usitha\", 29)\n",
    "person1.greet()\n",
    "\n",
    "person2 = Person(\"Ishani\", 25)\n",
    "person2.greet()"
   ]
  },
  {
   "cell_type": "code",
   "execution_count": 21,
   "metadata": {},
   "outputs": [
    {
     "name": "stdout",
     "output_type": "stream",
     "text": [
      "Sending message to Isha: Hi Isha, it's Don\n",
      "Sending message to Don: Hi Don, it's Isha\n",
      "don@gmail.com\n",
      "don@yahoo.com\n"
     ]
    }
   ],
   "source": [
    "class User:\n",
    "    def __init__(self, username, email, password):\n",
    "        self.username =  username\n",
    "        self.email = email\n",
    "        self.password = password\n",
    "    \n",
    "    def say_hi_to_user(self,user):\n",
    "        print(f\"Sending message to {user.username}: Hi {user.username}, it's {self.username}\")\n",
    "\n",
    "user1 = User(\"Don\",\"don@gmail.com\", '123')\n",
    "user2 = User(\"Isha\",\"isha@gmail.com\", \"456\")\n",
    "\n",
    "user1.say_hi_to_user(user2)\n",
    "user2.say_hi_to_user(user1)\n",
    "\n",
    "print(user1.email)\n",
    "user1.email = \"don@yahoo.com\"\n",
    "\n",
    "print(user1.email)\n"
   ]
  },
  {
   "cell_type": "markdown",
   "metadata": {},
   "source": [
    "In above example, email address was modified which is not good. Thus we need to come up with a method to control this nature."
   ]
  },
  {
   "cell_type": "markdown",
   "metadata": {},
   "source": [
    "### Protected attributes"
   ]
  },
  {
   "cell_type": "code",
   "execution_count": 19,
   "metadata": {},
   "outputs": [
    {
     "name": "stdout",
     "output_type": "stream",
     "text": [
      " Don@Gmailcom  \n",
      "don@gmailcom\n"
     ]
    },
    {
     "data": {
      "text/plain": [
       "'When some attributes are protected they are not supposed to use outside the class. This is just a convention that developers use even though protected \\nattributes can be used outside the class. However if someone wants to completely stop accessing from outside the class, they can make a private attributes \\nwhich can not be used oustside the class\\n'"
      ]
     },
     "execution_count": 19,
     "metadata": {},
     "output_type": "execute_result"
    }
   ],
   "source": [
    "class User:\n",
    "    def __init__(self, username, email, password):\n",
    "        self.username = username\n",
    "        self._email = email # This is convention to protect attributes\n",
    "        self.password = password\n",
    "\n",
    "    def clean_email(self):\n",
    "        return self._email.lower().strip()\n",
    "    \n",
    "user1 = User(\"Usitha Mihiranga\", \" Don@Gmailcom  \", \"123\")\n",
    "\n",
    "print(user1._email)\n",
    "print(user1.clean_email())\n",
    "\n",
    "\"\"\"When some attributes are protected they are not supposed to use outside the class. This is just a convention that developers use even though protected \n",
    "attributes can be used outside the class. However if someone wants to completely stop accessing from outside the class, they can make a private attributes \n",
    "which can not be used oustside the class\n",
    "\"\"\""
   ]
  },
  {
   "cell_type": "markdown",
   "metadata": {},
   "source": [
    "### Private Attributes"
   ]
  },
  {
   "cell_type": "markdown",
   "metadata": {},
   "source": [
    "use double underscore right in front of the attributes"
   ]
  },
  {
   "cell_type": "code",
   "execution_count": 28,
   "metadata": {},
   "outputs": [
    {
     "ename": "AttributeError",
     "evalue": "'User' object has no attribute '__email'",
     "output_type": "error",
     "traceback": [
      "\u001b[31m---------------------------------------------------------------------------\u001b[39m",
      "\u001b[31mAttributeError\u001b[39m                            Traceback (most recent call last)",
      "\u001b[36mCell\u001b[39m\u001b[36m \u001b[39m\u001b[32mIn[28]\u001b[39m\u001b[32m, line 12\u001b[39m\n\u001b[32m      8\u001b[39m         \u001b[38;5;28;01mreturn\u001b[39;00m \u001b[38;5;28mself\u001b[39m.__email.lower().strip()\n\u001b[32m     10\u001b[39m user1 = User(\u001b[33m\"\u001b[39m\u001b[33mUsitha Mihiranga\u001b[39m\u001b[33m\"\u001b[39m, \u001b[33m\"\u001b[39m\u001b[33m Don@Gmailcom  \u001b[39m\u001b[33m\"\u001b[39m, \u001b[33m\"\u001b[39m\u001b[33m123\u001b[39m\u001b[33m\"\u001b[39m)\n\u001b[32m---> \u001b[39m\u001b[32m12\u001b[39m \u001b[38;5;28mprint\u001b[39m(\u001b[43muser1\u001b[49m\u001b[43m.\u001b[49m\u001b[43m__email\u001b[49m)\n",
      "\u001b[31mAttributeError\u001b[39m: 'User' object has no attribute '__email'"
     ]
    }
   ],
   "source": [
    "class User:\n",
    "    def __init__(self, username, email, password):\n",
    "        self.username = username\n",
    "        self.__email = email # This is convention to protect attributes\n",
    "        self.password = password\n",
    "\n",
    "    def clean_email(self):\n",
    "        return self.__email.lower().strip()\n",
    "    \n",
    "user1 = User(\"Usitha Mihiranga\", \" Don@Gmailcom  \", \"123\")\n",
    "\n",
    "print(user1.__email)\n"
   ]
  },
  {
   "cell_type": "code",
   "execution_count": 30,
   "metadata": {},
   "outputs": [
    {
     "data": {
      "text/plain": [
       "'123'"
      ]
     },
     "execution_count": 30,
     "metadata": {},
     "output_type": "execute_result"
    }
   ],
   "source": [
    "user1.clean_email()# But then can use inside the class\n"
   ]
  },
  {
   "cell_type": "markdown",
   "metadata": {},
   "source": [
    "### Creating Getter and Setter methods"
   ]
  },
  {
   "cell_type": "code",
   "execution_count": 44,
   "metadata": {},
   "outputs": [
    {
     "name": "stdout",
     "output_type": "stream",
     "text": [
      "Email accessed at 2025-06-17 19:06:26.781613\n"
     ]
    },
    {
     "data": {
      "text/plain": [
       "'don@gmailcom'"
      ]
     },
     "execution_count": 44,
     "metadata": {},
     "output_type": "execute_result"
    }
   ],
   "source": [
    "from datetime import datetime \n",
    "\n",
    "class User:\n",
    "    def __init__(self, username, email, password):\n",
    "        self.username = username\n",
    "        self._email = email # This is convention to protect attributes\n",
    "        self.password = password\n",
    "    \n",
    "    # Getter Method\n",
    "    def get_email(self):\n",
    "        print(f'Email accessed at {datetime.now()}')\n",
    "        return self._email.lower().strip()\n",
    "    \n",
    "    # Setter Method\n",
    "    def set_email(self, new_email):\n",
    "        self._email = new_email\n",
    "\n",
    "user1 = User(\"Usitha Mihiranga\", \" Don@Gmailcom  \", \"123\")\n",
    "user1.get_email()"
   ]
  },
  {
   "cell_type": "code",
   "execution_count": 45,
   "metadata": {},
   "outputs": [
    {
     "name": "stdout",
     "output_type": "stream",
     "text": [
      "Email accessed at 2025-06-17 19:06:31.865034\n"
     ]
    },
    {
     "data": {
      "text/plain": [
       "'don96@gmail.com'"
      ]
     },
     "execution_count": 45,
     "metadata": {},
     "output_type": "execute_result"
    }
   ],
   "source": [
    "user1.set_email(\"don96@GMail.com\")\n",
    "user1.get_email()"
   ]
  },
  {
   "cell_type": "code",
   "execution_count": null,
   "metadata": {},
   "outputs": [],
   "source": []
  }
 ],
 "metadata": {
  "kernelspec": {
   "display_name": "Python 3 (ipykernel)",
   "language": "python",
   "name": "python3"
  },
  "language_info": {
   "codemirror_mode": {
    "name": "ipython",
    "version": 3
   },
   "file_extension": ".py",
   "mimetype": "text/x-python",
   "name": "python",
   "nbconvert_exporter": "python",
   "pygments_lexer": "ipython3",
   "version": "3.12.2"
  }
 },
 "nbformat": 4,
 "nbformat_minor": 5
}
